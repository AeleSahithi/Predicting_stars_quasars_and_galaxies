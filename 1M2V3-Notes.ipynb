{
 "cells": [
  {
   "cell_type": "markdown",
   "metadata": {},
   "source": [
    "## <center> M2V3 - Notes"
   ]
  },
  {
   "cell_type": "markdown",
   "metadata": {},
   "source": [
    "* Don't run the code cells as we haven't defined `data` variable in this notebook.\n",
    "* Simply change your code in your original notebook from what Chinmay has shown in the video to what it should be to avoid the data leakage!"
   ]
  },
  {
   "cell_type": "markdown",
   "metadata": {},
   "source": [
    "### Chinmay's Code (with data leakage!):-\n"
   ]
  },
  {
   "cell_type": "code",
   "execution_count": null,
   "metadata": {},
   "outputs": [],
   "source": [
    "# Split the data into independent and dependent features\n",
    "X = data.drop('class', axis=1)\n",
    "y = data['class']\n",
    "\n",
    "# Perform Scaling on independent features\n",
    "from sklearn.preprocessing import StandardScaler\n",
    "scaler = StandardScaler(copy=True , with_mean= True , with_std = True)\n",
    "X= scaler.fit_transform(X)\n",
    "\n",
    "# Performing the 30% test and 70% train split here\n",
    "X_train, X_test, y_train, y_test = train_test_split(X, y, test_size=0.3, random_state=128)"
   ]
  },
  {
   "cell_type": "markdown",
   "metadata": {},
   "source": [
    "### Correct Code (without data leakage):-"
   ]
  },
  {
   "cell_type": "code",
   "execution_count": null,
   "metadata": {},
   "outputs": [],
   "source": [
    "# Split the data into independent and dependent features\n",
    "X = data.drop('class', axis=1)\n",
    "y = data['class']\n",
    "\n",
    "# Performing the 30% test and 70% train split here\n",
    "X_train, X_test, y_train, y_test = train_test_split(X, y, test_size=0.3, random_state=128)\n",
    "\n",
    "# Instantiate StandardScaler\n",
    "from sklearn.preprocessing import StandardScaler\n",
    "scaler = StandardScaler(copy=True , with_mean= True , with_std = True)\n",
    "\n",
    "# Fit the X_train to get its mean and std values and then transform will scale X_train using that mean and std\n",
    "X_train = scaler.fit_transform(X_train) # Scaled X_train\n",
    "\n",
    "# Simply transform without fit on test data as scaler has the values of mean and std of X_train\n",
    "X_test = scaler.transform(X_test) # Scaled y_train"
   ]
  },
  {
   "cell_type": "markdown",
   "metadata": {},
   "source": [
    "### Important Points\n",
    "1. In the upcoming videos, you may have some different results as compard to what Chinmay will get so don't worry!\n",
    "2. Simply follow along and you are good to go. \n",
    "3. This will help you understand some typical pitfalls for beginners when it comes to data leakage problem.\n",
    "4. You can refer to the [10 common pitfalls and recommended practice](https://scikit-learn.org/stable/common_pitfalls.html) by sklearn (they have mentioned about data leakage part in section 10.2)"
   ]
  }
 ],
 "metadata": {
  "language_info": {
   "name": "python"
  }
 },
 "nbformat": 4,
 "nbformat_minor": 2
}
